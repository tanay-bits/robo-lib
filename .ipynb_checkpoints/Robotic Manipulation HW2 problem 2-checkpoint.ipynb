{
 "cells": [
  {
   "cell_type": "markdown",
   "metadata": {},
   "source": [
    "# Robotic Manipulation HW2 problem 2"
   ]
  },
  {
   "cell_type": "markdown",
   "metadata": {},
   "source": [
    "### Problem 2(i)"
   ]
  },
  {
   "cell_type": "code",
   "execution_count": 1,
   "metadata": {
    "collapsed": false,
    "scrolled": true
   },
   "outputs": [
    {
     "data": {
      "text/plain": [
       "array([[ 0],\n",
       "       [ 0],\n",
       "       [ 1],\n",
       "       [ 0],\n",
       "       [-3],\n",
       "       [ 2]])"
      ]
     },
     "execution_count": 1,
     "metadata": {},
     "output_type": "execute_result"
    }
   ],
   "source": [
    "%run manipulation.py\n",
    "q = [3,0,0]\n",
    "s_hat = [0,0,1]\n",
    "h = 2\n",
    "ScrewToAxis(q,s_hat,h)"
   ]
  },
  {
   "cell_type": "markdown",
   "metadata": {},
   "source": [
    "### Problem 2(ii)"
   ]
  },
  {
   "cell_type": "code",
   "execution_count": 2,
   "metadata": {
    "collapsed": false
   },
   "outputs": [
    {
     "data": {
      "text/plain": [
       "array([[ 0.54030231, -0.59500984,  0.59500984,  1.16652634],\n",
       "       [ 0.59500984,  0.77015115,  0.22984885,  2.40431986],\n",
       "       [-0.59500984,  0.22984885,  0.77015115,  2.59568014],\n",
       "       [ 0.        ,  0.        ,  0.        ,  1.        ]])"
      ]
     },
     "execution_count": 2,
     "metadata": {},
     "output_type": "execute_result"
    }
   ],
   "source": [
    "S = [0,1/math.sqrt(2),1/math.sqrt(2),1,2,3]\n",
    "theta = 1\n",
    "MatrixExp6(S*theta)"
   ]
  },
  {
   "cell_type": "markdown",
   "metadata": {},
   "source": [
    "### Problem 2(iii)"
   ]
  },
  {
   "cell_type": "code",
   "execution_count": 5,
   "metadata": {
    "collapsed": false
   },
   "outputs": [
    {
     "data": {
      "text/plain": [
       "array([[ 1.57079633],\n",
       "       [ 0.        ],\n",
       "       [ 0.        ],\n",
       "       [ 0.        ],\n",
       "       [ 2.35619449],\n",
       "       [ 2.35619449]])"
      ]
     },
     "execution_count": 5,
     "metadata": {},
     "output_type": "execute_result"
    }
   ],
   "source": [
    "T = [[1,0,0,0],[0,0,-1,0],[0,1,0,3],[0,0,0,1]]\n",
    "MatrixLog6(T)"
   ]
  },
  {
   "cell_type": "markdown",
   "metadata": {},
   "source": [
    "### Problem 2(iv)"
   ]
  },
  {
   "cell_type": "code",
   "execution_count": 6,
   "metadata": {
    "collapsed": false
   },
   "outputs": [
    {
     "data": {
      "text/plain": [
       "array([[ -1.14423775e-17,   1.00000000e+00,   0.00000000e+00,\n",
       "         -5.00000000e+00],\n",
       "       [  1.00000000e+00,   1.14423775e-17,   0.00000000e+00,\n",
       "          4.00000000e+00],\n",
       "       [  0.00000000e+00,   0.00000000e+00,  -1.00000000e+00,\n",
       "          1.68584073e+00],\n",
       "       [  0.00000000e+00,   0.00000000e+00,   0.00000000e+00,\n",
       "          1.00000000e+00]])"
      ]
     },
     "execution_count": 6,
     "metadata": {},
     "output_type": "execute_result"
    }
   ],
   "source": [
    "S1 = array([[0],[0],[1],[4],[0],[0]])\n",
    "S2 = array([[0],[0],[0],[0],[1],[0]])\n",
    "S3 = array([[0],[0],[-1],[-6],[0],[-0.1]])\n",
    "Slist = [S1, S2, S3]\n",
    "thetalist = [math.pi/2, 3, math.pi]\n",
    "M = array([[-1,  0,  0,  0],\n",
    "           [ 0,  1,  0,  6],\n",
    "           [ 0,  0, -1,  2],\n",
    "           [ 0,  0,  0,  1]])\n",
    "FKinFixed(M,Slist,thetalist)"
   ]
  },
  {
   "cell_type": "markdown",
   "metadata": {},
   "source": [
    "### Problem 2(v)"
   ]
  },
  {
   "cell_type": "code",
   "execution_count": 8,
   "metadata": {
    "collapsed": false,
    "scrolled": true
   },
   "outputs": [
    {
     "data": {
      "text/plain": [
       "array([[ -1.14423775e-17,   1.00000000e+00,   0.00000000e+00,\n",
       "         -5.00000000e+00],\n",
       "       [  1.00000000e+00,   1.14423775e-17,   0.00000000e+00,\n",
       "          4.00000000e+00],\n",
       "       [  0.00000000e+00,   0.00000000e+00,  -1.00000000e+00,\n",
       "          1.68584073e+00],\n",
       "       [  0.00000000e+00,   0.00000000e+00,   0.00000000e+00,\n",
       "          1.00000000e+00]])"
      ]
     },
     "execution_count": 8,
     "metadata": {},
     "output_type": "execute_result"
    }
   ],
   "source": [
    "S1b = array([[0],[0],[-1],[2],[0],[0]])\n",
    "S2b = array([[0],[0],[0],[0],[1],[0]])\n",
    "S3b = array([[0],[0],[1],[0],[0],[0.1]])\n",
    "Sblist = [S1b, S2b, S3b]\n",
    "thetalist = [math.pi/2, 3, math.pi]\n",
    "M = array([[-1,  0,  0,  0],\n",
    "           [ 0,  1,  0,  6],\n",
    "           [ 0,  0, -1,  2],\n",
    "           [ 0,  0,  0,  1]])\n",
    "FKinBody(M,Sblist,thetalist)"
   ]
  }
 ],
 "metadata": {
  "kernelspec": {
   "display_name": "Python 2",
   "language": "python",
   "name": "python2"
  },
  "language_info": {
   "codemirror_mode": {
    "name": "ipython",
    "version": 2
   },
   "file_extension": ".py",
   "mimetype": "text/x-python",
   "name": "python",
   "nbconvert_exporter": "python",
   "pygments_lexer": "ipython2",
   "version": "2.7.6"
  }
 },
 "nbformat": 4,
 "nbformat_minor": 0
}
